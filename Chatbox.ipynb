{
  "nbformat": 4,
  "nbformat_minor": 0,
  "metadata": {
    "colab": {
      "provenance": [],
      "authorship_tag": "ABX9TyNf/aOutwpYAF+XzRMrj4Vx",
      "include_colab_link": true
    },
    "kernelspec": {
      "name": "python3",
      "display_name": "Python 3"
    },
    "language_info": {
      "name": "python"
    }
  },
  "cells": [
    {
      "cell_type": "markdown",
      "metadata": {
        "id": "view-in-github",
        "colab_type": "text"
      },
      "source": [
        "<a href=\"https://colab.research.google.com/github/CharlesBlack96/Chatbox---python-coding-practice/blob/main/Chatbox.ipynb\" target=\"_parent\"><img src=\"https://colab.research.google.com/assets/colab-badge.svg\" alt=\"Open In Colab\"/></a>"
      ]
    },
    {
      "cell_type": "code",
      "execution_count": 3,
      "metadata": {
        "id": "vFVdrNcuJ69z"
      },
      "outputs": [],
      "source": [
        "#pip install nltk\n",
        "#install the nltk library for the caht box"
      ]
    },
    {
      "cell_type": "code",
      "source": [
        "#import specific functions from the chatbox library to enable the chat box to work\n",
        "from nltk.chat.util import Chat, reflections"
      ],
      "metadata": {
        "id": "okLUCaOTJ-pq"
      },
      "execution_count": 5,
      "outputs": []
    },
    {
      "cell_type": "code",
      "source": [
        "pairs = [\n",
        "    [\"(hello|hi|hey|whats up)\", [\"hello back\",\"hi there\",\"heyyoo\",\"sup man\"]],\n",
        "    [\"what is my name\", [\"whats up, Charles\"]],\n",
        "    [\"My name is (.*)\", [\"yooooo whats up %1!!!!\"]],\n",
        "    [\"This is amazing\", [\"why yes it is, gosh darnit\"]]\n",
        "]\n",
        "#above is an example of REGEX which allows for variability n answers"
      ],
      "metadata": {
        "id": "2hkD6iXpKvau"
      },
      "execution_count": 24,
      "outputs": []
    },
    {
      "cell_type": "code",
      "source": [
        "chat = Chat(pairs, reflections)\n",
        "chat.converse()"
      ],
      "metadata": {
        "colab": {
          "base_uri": "https://localhost:8080/"
        },
        "id": "B8NHOgpZWxQx",
        "outputId": "328c369b-1a4a-40fa-b3bf-db91882aaee5"
      },
      "execution_count": 26,
      "outputs": [
        {
          "output_type": "stream",
          "name": "stdout",
          "text": [
            ">hello\n",
            "hi there\n",
            ">hello\n",
            "hello back\n",
            ">hello\n",
            "heyyoo\n",
            ">hello\n",
            "sup man\n",
            ">hello\n",
            "hi there\n",
            ">hello\n",
            "sup man\n",
            ">hello\n",
            "hi there\n",
            ">hello\n",
            "sup man\n",
            ">this is amazing\n",
            "why yes it is, gosh darnit\n",
            ">quit\n",
            "None\n"
          ]
        }
      ]
    },
    {
      "cell_type": "code",
      "source": [],
      "metadata": {
        "id": "RArBnezNW_aq"
      },
      "execution_count": null,
      "outputs": []
    }
  ]
}