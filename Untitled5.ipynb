{
  "nbformat": 4,
  "nbformat_minor": 0,
  "metadata": {
    "colab": {
      "provenance": [],
      "authorship_tag": "ABX9TyMI/u5cPi6FM3OKHNlYsFy4",
      "include_colab_link": true
    },
    "kernelspec": {
      "name": "python3",
      "display_name": "Python 3"
    },
    "language_info": {
      "name": "python"
    }
  },
  "cells": [
    {
      "cell_type": "markdown",
      "metadata": {
        "id": "view-in-github",
        "colab_type": "text"
      },
      "source": [
        "<a href=\"https://colab.research.google.com/github/CharlesBlack96/Chatbox---python-coding-practice/blob/main/Untitled5.ipynb\" target=\"_parent\"><img src=\"https://colab.research.google.com/assets/colab-badge.svg\" alt=\"Open In Colab\"/></a>"
      ]
    },
    {
      "cell_type": "code",
      "execution_count": 3,
      "metadata": {
        "id": "vFVdrNcuJ69z"
      },
      "outputs": [],
      "source": [
        "#pip install nltk\n",
        "#install the nltk library for the caht box"
      ]
    },
    {
      "cell_type": "code",
      "source": [
        "#import specific functions from the chatbox library to enable the chat box to work\n",
        "from nltk.chat.util import Chat, reflections"
      ],
      "metadata": {
        "id": "okLUCaOTJ-pq"
      },
      "execution_count": 4,
      "outputs": []
    },
    {
      "cell_type": "code",
      "source": [],
      "metadata": {
        "id": "2hkD6iXpKvau"
      },
      "execution_count": null,
      "outputs": []
    }
  ]
}